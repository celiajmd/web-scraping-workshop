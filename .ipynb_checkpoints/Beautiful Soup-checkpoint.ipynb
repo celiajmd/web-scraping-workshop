{
 "cells": [
  {
   "cell_type": "markdown",
   "metadata": {},
   "source": [
    "# Beautiful Soup Tutorial -- Dev Sharma, Applied Analytics Club"
   ]
  },
  {
   "cell_type": "markdown",
   "metadata": {},
   "source": [
    "Import libraries"
   ]
  },
  {
   "cell_type": "code",
   "execution_count": 1,
   "metadata": {},
   "outputs": [],
   "source": [
    "from bs4 import BeautifulSoup\n",
    "import requests"
   ]
  },
  {
   "cell_type": "markdown",
   "metadata": {},
   "source": [
    "Define the url and use the GET html method to extract the web page"
   ]
  },
  {
   "cell_type": "code",
   "execution_count": 2,
   "metadata": {},
   "outputs": [],
   "source": [
    "url = \"https://www.imdb.com/search/title?genres=drama&groups=top_250&sort=user_rating,desc\"\n",
    "res = requests.get(url)"
   ]
  },
  {
   "cell_type": "markdown",
   "metadata": {},
   "source": [
    "Let's check the response variable"
   ]
  },
  {
   "cell_type": "code",
   "execution_count": 3,
   "metadata": {},
   "outputs": [
    {
     "name": "stdout",
     "output_type": "stream",
     "text": [
      "<Response [200]>\n"
     ]
    }
   ],
   "source": [
    "print(res)"
   ]
  },
  {
   "cell_type": "markdown",
   "metadata": {},
   "source": [
    "A response code of 200 indicates an 'OK' signal. There are various codes (e.g. 401, 404) which can be found here: https://en.wikipedia.org/wiki/List_of_HTTP_status_codes\n"
   ]
  },
  {
   "cell_type": "markdown",
   "metadata": {},
   "source": [
    "Use BeautifulSoup to parse the response variable"
   ]
  },
  {
   "cell_type": "code",
   "execution_count": 4,
   "metadata": {},
   "outputs": [],
   "source": [
    "soup = BeautifulSoup(res.text)\n",
    "# print(soup)"
   ]
  },
  {
   "cell_type": "markdown",
   "metadata": {},
   "source": [
    "### Selecting a single element"
   ]
  },
  {
   "cell_type": "code",
   "execution_count": 5,
   "metadata": {},
   "outputs": [
    {
     "name": "stdout",
     "output_type": "stream",
     "text": [
      "<a href=\"/title/tt0111161/\">The Shawshank Redemption</a>\n",
      "The Shawshank Redemption\n",
      "/title/tt0111161/\n"
     ]
    }
   ],
   "source": [
    "movie = soup.select_one(\".lister-item-header a\")\n",
    "print(movie)\n",
    "print(movie.text)\n",
    "print(movie[\"href\"])"
   ]
  },
  {
   "cell_type": "markdown",
   "metadata": {},
   "source": [
    "### Selecting multiple elements"
   ]
  },
  {
   "cell_type": "markdown",
   "metadata": {},
   "source": [
    "Use BeautifulSoup's select function to scrape the desired content "
   ]
  },
  {
   "cell_type": "code",
   "execution_count": 6,
   "metadata": {
    "scrolled": true
   },
   "outputs": [
    {
     "name": "stdout",
     "output_type": "stream",
     "text": [
      "[<a href=\"/title/tt0111161/\">The Shawshank Redemption</a>, <a href=\"/title/tt0068646/\">The Godfather</a>, <a href=\"/title/tt0468569/\">The Dark Knight</a>, <a href=\"/title/tt0071562/\">The Godfather: Part II</a>, <a href=\"/title/tt7286456/\">Joker</a>, <a href=\"/title/tt0167260/\">The Lord of the Rings: The Return of the King</a>, <a href=\"/title/tt0110912/\">Pulp Fiction</a>, <a href=\"/title/tt0108052/\">Schindler's List</a>, <a href=\"/title/tt0050083/\">12 Angry Men</a>, <a href=\"/title/tt0137523/\">Fight Club</a>, <a href=\"/title/tt0120737/\">The Lord of the Rings: The Fellowship of the Ring</a>, <a href=\"/title/tt0109830/\">Forrest Gump</a>, <a href=\"/title/tt3417422/\">Drishyam</a>, <a href=\"/title/tt0167261/\">The Lord of the Rings: The Two Towers</a>, <a href=\"/title/tt0099685/\">Goodfellas</a>, <a href=\"/title/tt0073486/\">One Flew Over the Cuckoo's Nest</a>, <a href=\"/title/tt0056058/\">Harakiri</a>, <a href=\"/title/tt0816692/\">Interstellar</a>, <a href=\"/title/tt0317248/\">City of God</a>, <a href=\"/title/tt0120815/\">Saving Private Ryan</a>, <a href=\"/title/tt0120689/\">The Green Mile</a>, <a href=\"/title/tt0118799/\">Life Is Beautiful</a>, <a href=\"/title/tt0114369/\">Se7en</a>, <a href=\"/title/tt0102926/\">The Silence of the Lambs</a>, <a href=\"/title/tt0047478/\">Seven Samurai</a>, <a href=\"/title/tt0038650/\">It's a Wonderful Life</a>, <a href=\"/title/tt6751668/\">Parasite</a>, <a href=\"/title/tt2582802/\">Whiplash</a>, <a href=\"/title/tt1675434/\">The Intouchables</a>, <a href=\"/title/tt0482571/\">The Prestige</a>, <a href=\"/title/tt0407887/\">The Departed</a>, <a href=\"/title/tt0253474/\">The Pianist</a>, <a href=\"/title/tt0172495/\">Gladiator</a>, <a href=\"/title/tt0120586/\">American History X</a>, <a href=\"/title/tt0110413/\">Léon: The Professional</a>, <a href=\"/title/tt0110357/\">The Lion King</a>, <a href=\"/title/tt0095765/\">Cinema Paradiso</a>, <a href=\"/title/tt0095327/\">Grave of the Fireflies</a>, <a href=\"/title/tt0034583/\">Casablanca</a>, <a href=\"/title/tt0032553/\">The Great Dictator</a>, <a href=\"/title/tt0027977/\">Modern Times</a>, <a href=\"/title/tt0021749/\">City Lights</a>, <a href=\"/title/tt8267604/\">Capharnaüm</a>, <a href=\"/title/tt5311514/\">Your Name.</a>, <a href=\"/title/tt5074352/\">Dangal</a>, <a href=\"/title/tt1853728/\">Django Unchained</a>, <a href=\"/title/tt1187043/\">3 Idiots</a>, <a href=\"/title/tt0986264/\">Taare Zameen Par</a>, <a href=\"/title/tt0405094/\">The Lives of Others</a>, <a href=\"/title/tt0364569/\">Oldeuboi</a>]\n"
     ]
    }
   ],
   "source": [
    "# Use selector gadget plug in to select the CSS selector\n",
    "movies = soup.select(\".lister-item-header a\")\n",
    "\n",
    "print(movies)"
   ]
  },
  {
   "cell_type": "code",
   "execution_count": 7,
   "metadata": {
    "scrolled": true
   },
   "outputs": [
    {
     "name": "stdout",
     "output_type": "stream",
     "text": [
      "['The Shawshank Redemption', 'The Godfather', 'The Dark Knight', 'The Godfather: Part II', 'Joker', 'The Lord of the Rings: The Return of the King', 'Pulp Fiction', \"Schindler's List\", '12 Angry Men', 'Fight Club', 'The Lord of the Rings: The Fellowship of the Ring', 'Forrest Gump', 'Drishyam', 'The Lord of the Rings: The Two Towers', 'Goodfellas', \"One Flew Over the Cuckoo's Nest\", 'Harakiri', 'Interstellar', 'City of God', 'Saving Private Ryan', 'The Green Mile', 'Life Is Beautiful', 'Se7en', 'The Silence of the Lambs', 'Seven Samurai', \"It's a Wonderful Life\", 'Parasite', 'Whiplash', 'The Intouchables', 'The Prestige', 'The Departed', 'The Pianist', 'Gladiator', 'American History X', 'Léon: The Professional', 'The Lion King', 'Cinema Paradiso', 'Grave of the Fireflies', 'Casablanca', 'The Great Dictator', 'Modern Times', 'City Lights', 'Capharnaüm', 'Your Name.', 'Dangal', 'Django Unchained', '3 Idiots', 'Taare Zameen Par', 'The Lives of Others', 'Oldeuboi']\n",
      "\n",
      "\n",
      "['http://imdb.com/title/tt0111161/', 'http://imdb.com/title/tt0068646/', 'http://imdb.com/title/tt0468569/', 'http://imdb.com/title/tt0071562/', 'http://imdb.com/title/tt7286456/', 'http://imdb.com/title/tt0167260/', 'http://imdb.com/title/tt0110912/', 'http://imdb.com/title/tt0108052/', 'http://imdb.com/title/tt0050083/', 'http://imdb.com/title/tt0137523/', 'http://imdb.com/title/tt0120737/', 'http://imdb.com/title/tt0109830/', 'http://imdb.com/title/tt3417422/', 'http://imdb.com/title/tt0167261/', 'http://imdb.com/title/tt0099685/', 'http://imdb.com/title/tt0073486/', 'http://imdb.com/title/tt0056058/', 'http://imdb.com/title/tt0816692/', 'http://imdb.com/title/tt0317248/', 'http://imdb.com/title/tt0120815/', 'http://imdb.com/title/tt0120689/', 'http://imdb.com/title/tt0118799/', 'http://imdb.com/title/tt0114369/', 'http://imdb.com/title/tt0102926/', 'http://imdb.com/title/tt0047478/', 'http://imdb.com/title/tt0038650/', 'http://imdb.com/title/tt6751668/', 'http://imdb.com/title/tt2582802/', 'http://imdb.com/title/tt1675434/', 'http://imdb.com/title/tt0482571/', 'http://imdb.com/title/tt0407887/', 'http://imdb.com/title/tt0253474/', 'http://imdb.com/title/tt0172495/', 'http://imdb.com/title/tt0120586/', 'http://imdb.com/title/tt0110413/', 'http://imdb.com/title/tt0110357/', 'http://imdb.com/title/tt0095765/', 'http://imdb.com/title/tt0095327/', 'http://imdb.com/title/tt0034583/', 'http://imdb.com/title/tt0032553/', 'http://imdb.com/title/tt0027977/', 'http://imdb.com/title/tt0021749/', 'http://imdb.com/title/tt8267604/', 'http://imdb.com/title/tt5311514/', 'http://imdb.com/title/tt5074352/', 'http://imdb.com/title/tt1853728/', 'http://imdb.com/title/tt1187043/', 'http://imdb.com/title/tt0986264/', 'http://imdb.com/title/tt0405094/', 'http://imdb.com/title/tt0364569/']\n"
     ]
    }
   ],
   "source": [
    "movies_titles = []\n",
    "movies_links = []\n",
    "\n",
    "for item in movies:\n",
    "    movies_titles.append(item.text)\n",
    "    link = \"http://imdb.com\" + item[\"href\"]\n",
    "    movies_links.append(link)\n",
    "\n",
    "print(movies_titles)\n",
    "print(\"\\n\")\n",
    "print(movies_links)"
   ]
  },
  {
   "cell_type": "markdown",
   "metadata": {},
   "source": [
    "## Challenge"
   ]
  },
  {
   "cell_type": "markdown",
   "metadata": {},
   "source": [
    "### Scrape the 250 best TV shows' titles and links"
   ]
  },
  {
   "cell_type": "markdown",
   "metadata": {},
   "source": [
    "Link: https://www.imdb.com/chart/toptv/?ref_=nv_tvv_250"
   ]
  },
  {
   "cell_type": "code",
   "execution_count": 8,
   "metadata": {},
   "outputs": [],
   "source": [
    "# Answer\n",
    "#\n",
    "#\n",
    "#\n",
    "#\n",
    "#"
   ]
  },
  {
   "cell_type": "code",
   "execution_count": 9,
   "metadata": {
    "scrolled": true
   },
   "outputs": [
    {
     "name": "stdout",
     "output_type": "stream",
     "text": [
      "[<a href=\"/title/tt5491994/\" title=\"David Attenborough\">Planet Earth II</a>, <a href=\"/title/tt0795176/\" title=\"David Attenborough, Sigourney Weaver\">Planet Earth</a>, <a href=\"/title/tt0185906/\" title=\"Scott Grimes, Damian Lewis\">Band of Brothers</a>, <a href=\"/title/tt7366338/\" title=\"Jessie Buckley, Jared Harris\">Chernobyl</a>, <a href=\"/title/tt0903747/\" title=\"Bryan Cranston, Aaron Paul\">Breaking Bad</a>, <a href=\"/title/tt6769208/\" title=\"David Attenborough, Peter Drost\">Blue Planet II</a>, <a href=\"/title/tt0306414/\" title=\"Dominic West, Lance Reddick\">The Wire</a>, <a href=\"/title/tt0944947/\" title=\"Emilia Clarke, Peter Dinklage\">Game of Thrones</a>, <a href=\"/title/tt9253866/\" title=\"David Attenborough\">Our Planet</a>, <a href=\"/title/tt2395695/\" title=\"Neil deGrasse Tyson, Stoney Emshwiller\">Cosmos</a>]\n",
      "\n",
      "\n",
      "['Planet Earth II', 'Planet Earth', 'Band of Brothers', 'Chernobyl', 'Breaking Bad', 'Blue Planet II', 'The Wire', 'Game of Thrones', 'Our Planet', 'Cosmos']\n",
      "\n",
      "\n",
      "['http://imdb.com/title/tt5491994/', 'http://imdb.com/title/tt0795176/', 'http://imdb.com/title/tt0185906/', 'http://imdb.com/title/tt7366338/', 'http://imdb.com/title/tt0903747/', 'http://imdb.com/title/tt6769208/', 'http://imdb.com/title/tt0306414/', 'http://imdb.com/title/tt0944947/', 'http://imdb.com/title/tt9253866/', 'http://imdb.com/title/tt2395695/']\n"
     ]
    }
   ],
   "source": [
    "url = \"https://www.imdb.com/chart/toptv/?ref_=nv_tvv_250\"\n",
    "res = requests.get(url)\n",
    "soup = BeautifulSoup(res.text)\n",
    "\n",
    "shows = soup.select(\".titleColumn a\")\n",
    "\n",
    "print(shows[:10])\n",
    "print(\"\\n\")\n",
    "\n",
    "shows_titles = [title.text for title in shows]\n",
    "shows_links = [\"http://imdb.com\"+title[\"href\"] for title in shows]\n",
    "\n",
    "print(shows_titles[:10])\n",
    "print(\"\\n\")\n",
    "print(shows_links[:10])"
   ]
  },
  {
   "cell_type": "markdown",
   "metadata": {},
   "source": [
    "## Bonus: Creating a for loop to scrape multiple pages"
   ]
  },
  {
   "cell_type": "code",
   "execution_count": 11,
   "metadata": {},
   "outputs": [
    {
     "name": "stdout",
     "output_type": "stream",
     "text": [
      "[<span class=\"text\" itemprop=\"text\">“The world as we have created it is a process of our thinking. It cannot be changed without changing our thinking.”</span>, <span class=\"text\" itemprop=\"text\">“It is our choices, Harry, that show what we truly are, far more than our abilities.”</span>, <span class=\"text\" itemprop=\"text\">“There are only two ways to live your life. One is as though nothing is a miracle. The other is as though everything is a miracle.”</span>, <span class=\"text\" itemprop=\"text\">“The person, be it gentleman or lady, who has not pleasure in a good novel, must be intolerably stupid.”</span>, <span class=\"text\" itemprop=\"text\">“Imperfection is beauty, madness is genius and it's better to be absolutely ridiculous than absolutely boring.”</span>, <span class=\"text\" itemprop=\"text\">“Try not to become a man of success. Rather become a man of value.”</span>, <span class=\"text\" itemprop=\"text\">“It is better to be hated for what you are than to be loved for what you are not.”</span>, <span class=\"text\" itemprop=\"text\">“I have not failed. I've just found 10,000 ways that won't work.”</span>, <span class=\"text\" itemprop=\"text\">“A woman is like a tea bag; you never know how strong it is until it's in hot water.”</span>, <span class=\"text\" itemprop=\"text\">“A day without sunshine is like, you know, night.”</span>]\n",
      "\n",
      "\n",
      "Length of quotes is 30\n",
      "['“The world as we have created it is a process of our thinking. It cannot be changed without changing our thinking.”', '“It is our choices, Harry, that show what we truly are, far more than our abilities.”', '“There are only two ways to live your life. One is as though nothing is a miracle. The other is as though everything is a miracle.”', '“The person, be it gentleman or lady, who has not pleasure in a good novel, must be intolerably stupid.”', \"“Imperfection is beauty, madness is genius and it's better to be absolutely ridiculous than absolutely boring.”\", '“Try not to become a man of success. Rather become a man of value.”', '“It is better to be hated for what you are than to be loved for what you are not.”', \"“I have not failed. I've just found 10,000 ways that won't work.”\", \"“A woman is like a tea bag; you never know how strong it is until it's in hot water.”\", '“A day without sunshine is like, you know, night.”']\n"
     ]
    }
   ],
   "source": [
    "base_url = \"http://quotes.toscrape.com/page/\"\n",
    "number_of_pages = 3\n",
    "quotes = []\n",
    "\n",
    "for i in range(1,number_of_pages+1):\n",
    "    url = base_url + str(i) # URL Manupilation for each page\n",
    "    res = requests.get(url)\n",
    "    soup = BeautifulSoup(res.text)\n",
    "    quotes = quotes + soup.select(\".text\")\n",
    "    \n",
    "print(quotes[:10])\n",
    "print(\"\\n\")\n",
    "print(\"Length of quotes is\",len(quotes))\n",
    "\n",
    "quotes_text = [quote.text for quote in quotes]\n",
    "\n",
    "print(quotes_text[:10])"
   ]
  },
  {
   "cell_type": "code",
   "execution_count": null,
   "metadata": {},
   "outputs": [],
   "source": []
  }
 ],
 "metadata": {
  "kernelspec": {
   "display_name": "Python 3",
   "language": "python",
   "name": "python3"
  },
  "language_info": {
   "codemirror_mode": {
    "name": "ipython",
    "version": 3
   },
   "file_extension": ".py",
   "mimetype": "text/x-python",
   "name": "python",
   "nbconvert_exporter": "python",
   "pygments_lexer": "ipython3",
   "version": "3.7.4"
  }
 },
 "nbformat": 4,
 "nbformat_minor": 2
}
