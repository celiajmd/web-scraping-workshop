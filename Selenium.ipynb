{
 "cells": [
  {
   "cell_type": "markdown",
   "metadata": {},
   "source": [
    "# Selenium Tutorial -- Dev Sharma, Applied Analytics Club"
   ]
  },
  {
   "cell_type": "markdown",
   "metadata": {},
   "source": [
    "Import libraries "
   ]
  },
  {
   "cell_type": "code",
   "execution_count": 1,
   "metadata": {},
   "outputs": [],
   "source": [
    "from selenium import webdriver\n",
    "from selenium.webdriver.support.ui import Select\n",
    "from selenium.webdriver.common.keys import Keys\n",
    "import os"
   ]
  },
  {
   "cell_type": "code",
   "execution_count": 2,
   "metadata": {},
   "outputs": [],
   "source": [
    "# load our driver \n",
    "driver = webdriver.Chrome('driver/chromedriver')"
   ]
  },
  {
   "cell_type": "markdown",
   "metadata": {},
   "source": [
    "Define the url and use selenium's in-built get function to go to the desired site"
   ]
  },
  {
   "cell_type": "code",
   "execution_count": 3,
   "metadata": {},
   "outputs": [],
   "source": [
    "url = \"http://www.amazon.com\"\n",
    "driver.get(url)"
   ]
  },
  {
   "cell_type": "markdown",
   "metadata": {},
   "source": [
    "### Selecting an option out of a dropdown menu"
   ]
  },
  {
   "cell_type": "code",
   "execution_count": 4,
   "metadata": {
    "scrolled": true
   },
   "outputs": [
    {
     "name": "stdout",
     "output_type": "stream",
     "text": [
      "All Departments\n",
      "Audible Books & Originals\n",
      "Alexa Skills\n",
      "Amazon Devices\n",
      "Amazon Fresh\n",
      "Amazon Warehouse\n",
      "Appliances\n",
      "Apps & Games\n",
      "Arts, Crafts & Sewing\n",
      "Automotive Parts & Accessories\n",
      "Baby\n",
      "Beauty & Personal Care\n",
      "Books\n",
      "CDs & Vinyl\n",
      "Cell Phones & Accessories\n",
      "Clothing, Shoes & Jewelry\n",
      "   Women\n",
      "   Men\n",
      "   Girls\n",
      "   Boys\n",
      "   Baby\n",
      " \n",
      "Under $10\n",
      "Collectibles & Fine Art\n",
      "Computers\n",
      "Courses\n",
      "Credit and Payment Cards\n",
      "Digital Music\n",
      "Electronics\n",
      "Garden & Outdoor\n",
      "Gift Cards\n",
      "Grocery & Gourmet Food\n",
      "Handmade\n",
      "Health, Household & Baby Care\n",
      "Home & Business Services\n",
      "Home & Kitchen\n",
      "Industrial & Scientific\n",
      "Just for Prime\n",
      "Kindle Store\n",
      "Luggage & Travel Gear\n",
      "Luxury Beauty\n",
      "Magazine Subscriptions\n",
      "Movies & TV\n",
      "Musical Instruments\n",
      "Office Products\n",
      "Pet Supplies\n",
      "Prime Pantry\n",
      "Prime Video\n",
      "Software\n",
      "Sports & Outdoors\n",
      "Subscription Boxes\n",
      "Tools & Home Improvement\n",
      "Toys & Games\n",
      "Vehicles\n",
      "Video Games\n"
     ]
    }
   ],
   "source": [
    "options = driver.find_element_by_css_selector('#searchDropdownBox')\n",
    " \n",
    "print(options.text)"
   ]
  },
  {
   "cell_type": "code",
   "execution_count": 5,
   "metadata": {},
   "outputs": [],
   "source": [
    "selection = Select(options)\n",
    "selection.select_by_visible_text('Home & Kitchen')"
   ]
  },
  {
   "cell_type": "markdown",
   "metadata": {},
   "source": [
    "Search for any product type e.g. \"photo frames\""
   ]
  },
  {
   "cell_type": "code",
   "execution_count": 6,
   "metadata": {},
   "outputs": [],
   "source": [
    "SearchBar = driver.find_element_by_css_selector(\"#twotabsearchtextbox\")\n",
    "SearchBar.send_keys(\"Photo Frames\")\n",
    "SearchBar.send_keys(Keys.ENTER)"
   ]
  },
  {
   "cell_type": "markdown",
   "metadata": {},
   "source": [
    "### Selecting multiple elements "
   ]
  },
  {
   "cell_type": "code",
   "execution_count": 7,
   "metadata": {},
   "outputs": [
    {
     "name": "stdout",
     "output_type": "stream",
     "text": [
      "38\n"
     ]
    },
    {
     "data": {
      "text/plain": [
       "'AmazonBasics Photo Picture Frame - 4\" x 6\", Black, 2-Pack'"
      ]
     },
     "execution_count": 7,
     "metadata": {},
     "output_type": "execute_result"
    }
   ],
   "source": [
    "frames_desc = []\n",
    "frames_desc_temp = driver.find_elements_by_css_selector(\".s-line-clamp-4 .a-text-normal\") # Note the \"s\" in elements denoting multiple elements\n",
    "\n",
    "\n",
    "#Accounrint for duplicates\n",
    "for i in range(len(frames_desc_temp)):\n",
    "    if i % 2 != 0:\n",
    "        frames_desc.append(frames_desc_temp[i])\n",
    "\n",
    "print(len(frames_desc))\n",
    "frames_desc[10].text"
   ]
  },
  {
   "cell_type": "code",
   "execution_count": 8,
   "metadata": {},
   "outputs": [
    {
     "data": {
      "text/plain": [
       "'9'"
      ]
     },
     "execution_count": 8,
     "metadata": {},
     "output_type": "execute_result"
    }
   ],
   "source": [
    "frames_whole_price = driver.find_elements_by_css_selector(\".a-spacing-top-small .a-price:nth-child(1) .a-price-whole\")\n",
    "frames_whole_price[10].text"
   ]
  },
  {
   "cell_type": "code",
   "execution_count": 9,
   "metadata": {
    "scrolled": true
   },
   "outputs": [
    {
     "data": {
      "text/plain": [
       "'99'"
      ]
     },
     "execution_count": 9,
     "metadata": {},
     "output_type": "execute_result"
    }
   ],
   "source": [
    "frames_frac_price = driver.find_elements_by_css_selector(\".a-spacing-top-small .a-price:nth-child(1) .a-price-fraction\")\n",
    "frames_frac_price[10].text\n"
   ]
  },
  {
   "cell_type": "code",
   "execution_count": 10,
   "metadata": {},
   "outputs": [
    {
     "data": {
      "text/plain": [
       "str"
      ]
     },
     "execution_count": 10,
     "metadata": {},
     "output_type": "execute_result"
    }
   ],
   "source": [
    "type(frames_frac_price[10].text) # type of the element is string. we will need to convert this to int to derive the final price"
   ]
  },
  {
   "cell_type": "markdown",
   "metadata": {},
   "source": [
    "#### Summing the whole and fraction prices"
   ]
  },
  {
   "cell_type": "code",
   "execution_count": 11,
   "metadata": {},
   "outputs": [],
   "source": [
    "# Creating the function \n",
    "def price_compiler(whole,frac):\n",
    "    try:\n",
    "        final_price = int(whole) + (int(frac)/100)\n",
    "    except: \n",
    "        final_price = None\n",
    "    return final_price"
   ]
  },
  {
   "cell_type": "code",
   "execution_count": 12,
   "metadata": {
    "scrolled": true
   },
   "outputs": [
    {
     "name": "stdout",
     "output_type": "stream",
     "text": [
      "[9.84, 19.99, 19.95, 7.99, 9.99, 9.84, 19.99, None, None, 25.49, 9.99, 29.99, 13.99, 14.95, 30.99, 15.99, 38.99, 21.99, 13.99, 18.99, 33.99, 21.95, 32.99, 10.99, 24.95, 31.95, 16.95, 19.99, 35.99, 14.99, 37.87, 45.49, 27.49, 9.84, 27.95, 25.95, 7.99, 25.99, 38.99, 16.99, 29.99, None, None, None]\n"
     ]
    }
   ],
   "source": [
    "frames_price = []\n",
    "\n",
    "for i in range(len(frames_whole_price)):\n",
    "    full_price = price_compiler( frames_whole_price[i].text , frames_frac_price[i].text )\n",
    "    frames_price.append(full_price)\n",
    "    \n",
    "print(frames_price)"
   ]
  },
  {
   "cell_type": "markdown",
   "metadata": {},
   "source": [
    "### Creating a dictionary for each item"
   ]
  },
  {
   "cell_type": "code",
   "execution_count": 13,
   "metadata": {},
   "outputs": [
    {
     "name": "stdout",
     "output_type": "stream",
     "text": [
      "{'AmazonBasics 8\" x 10': 9.84, 'Hap Tim 5x7 Picture ': 19.99, 'Scholartree Wooden P': 19.95, 'RPJC 5x7 Picture Fra': 7.99, 'AmazonBasics Photo P': 9.99, 'Yome 11x14 Black Pic': 19.99, '': None, 'Giftgarden 8x10 Pict': 25.49, 'SONGMICS Picture Fra': 29.99, 'Emfogo 4x6 Picture F': 13.99, 'Americanflat 11x14 B': 14.95, '8x10 Black Picture F': 30.99, 'Love-KANKEI Wood Pic': 15.99, 'Golden State Art, Go': 38.99, 'BOICHEN 6 Pack 4x6 P': 21.99, 'RPJC 5x7 Soild Wood ': 13.99, 'The Display Guys LUX': 18.99, 'upsimples 5x7 Pictur': 33.99, 'Scholartree Wooden G': 21.95, 'Giftgarden Multi Pic': 32.99, 'Umbra Prisma Picture': 10.99, 'Collage Picture Fram': 24.95, 'Americanflat 10-Piec': 31.95, 'Americanflat 11x14 C': 16.95, 'MELANNCO Customizabl': 19.99, 'Homemaxs 12 Pack Pic': 35.99, 'Giftgarden 5 by 7 In': 14.99, 'Umbra Luna 9-Opening': 37.87, 'Gallery Perfect 7 Pi': 45.49, 'Egofine 8x10 Picture': 27.49, 'LaVie Home 5x7 Pictu': 27.95, 'LaVie Home 4x6 Pictu': 25.95, 'RPJC 4x6 Picture Fra': 7.99, 'Boichen 5x7 Picture ': 25.99}\n"
     ]
    }
   ],
   "source": [
    "frames = {}\n",
    "\n",
    "for i in range(len(frames_desc)):\n",
    "    frames[frames_desc[i].text[:20]] = frames_price[i]\n",
    "    \n",
    "print(frames)"
   ]
  },
  {
   "cell_type": "code",
   "execution_count": 14,
   "metadata": {},
   "outputs": [
    {
     "data": {
      "text/plain": [
       "38"
      ]
     },
     "execution_count": 14,
     "metadata": {},
     "output_type": "execute_result"
    }
   ],
   "source": [
    "len(frames_desc)"
   ]
  },
  {
   "cell_type": "markdown",
   "metadata": {},
   "source": [
    "## Challenge: Use Selenium to scrape Ebay.com for a product of your choice "
   ]
  },
  {
   "cell_type": "code",
   "execution_count": 15,
   "metadata": {},
   "outputs": [],
   "source": [
    "# Hint: Don't worry about selecting the right product category\n",
    "\n",
    "# Answer\n",
    "#\n",
    "#\n",
    "#\n",
    "#\n",
    "#\n",
    "#\n",
    "#\n",
    "#\n",
    "#"
   ]
  },
  {
   "cell_type": "code",
   "execution_count": 16,
   "metadata": {
    "scrolled": false
   },
   "outputs": [
    {
     "name": "stdout",
     "output_type": "stream",
     "text": [
      "{'4 11 23 26pcs Multi ': '$19.99 to $38.99', '7 PCS, Giftgarden 8x': '$23.91', 'Fridge Magnetic Pict': '$17.50', '7 Pack of 8x10 Pictu': '$25.64', 'Photo Frame Poster P': '$11.93', 'Format Picture Frame': '$23.99', 'NEW LISTINGFrames Un': '$15.00', '11 Pcs Photo Frame S': '$23.99', 'Photo Frame Set Of 6': '$23.49', 'Photo Frame Set Form': '$22.99 to $39.99', 'Clear Magnetic Photo': '$9.05', '3 Sizes 12 Piece Pic': '$22.82', 'Photo Booth Frame 2x': '$6.99', '4PCS Picture Photo W': '$19.99', '50 Photo Insert Note': '$19.01', '100 plastic Photo Bo': '$39.00', 'Icona Bay 8x10 Pictu': '$18.90', 'Craig Frames Economy': '$8.99 to $133.00', 'Stand Up Acrylic Pic': '$14.99', 'VonHaus 2x Standing ': '$9.99', 'NEW LISTING10Pcs Nov': '$5.49 to $5.99', 'Wood Photo Frame Pos': '$15.99', 'NEW LISTINGBlack Woo': '$25.00', 'A1 A2 A3 A4 A5 Pictu': '$3.13 to $44.03', 'Special Moments Silv': '$7.79', 'New 11 x 17 picture ': '$6.00', 'StoreSMART Full-Back': '$20.28', 'Aluminum Photo Poste': '$12.50 to $24.50', '3-Piece Format Pictu': '$13.14 to $23.63', 'Lot of 3 Magnetic 5\"': '$6.99', 'Lot of 6 Magnetic 4\"': '$8.79', '12x16 Format Picture': '$25.99', 'Family Tree Photo Pi': '$23.95', 'Photo Picture Frame ': '$23.47', '21 PHOTO PICTURE COL': '$26.18', '2X 5x7\" Picture Fram': '$6.29', 'Set of 10, 5x7 Magic': '$17.55', 'Craig Frames 1WB3 Co': '$28.99', '4\"x6\" Clear Acrylic ': '$9.99', 'Photo Frame Set Of 1': '$25.99 to $27.99', 'Studio 500 8.5x11 Th': '$35.00', 'Four 5 x 7 Vertical ': '$10.00', '10 pack 8x10 Tile Ph': '$19.50', '12 Pack 5x7 Picture ': '$24.11', 'IKEA Photo Frame FIS': '$9.98 to $24.88', 'Carson Embellished P': '$59.12', 'New Magically Magnet': '$1.20', 'NEW LISTING11pcs Pho': '$15.99', 'Photo Booth Frames f': '$34.99', '10x DIY Paper Photo ': '$2.88', '12x36 Movie Wedding ': '$32.99', 'Photo Frame Picture ': '$3.00 to $8.50', 'NEW LISTINGTwo Handm': '$6.99', 'NEW LISTING150 Acryl': '$54.95', 'Lot of 12 Magnetic 2': '$9.59', 'Magnetic Wooden Phot': '$3.75 to $9.30', 'NEW LISTING9 Ikea Ph': '$3.00', 'NEW LISTINGMatching ': '$7.50', '10 Set DIY Wall Pict': '$11.95', 'Fujifilm 600017133 I': '$0.75 to $2.16', 'Pack of 20 Mini Phot': '$7.99'}\n"
     ]
    }
   ],
   "source": [
    "url = \"http://www.ebay.com\"\n",
    "driver.get(url)\n",
    "\n",
    "SearchBar = driver.find_element_by_css_selector(\"#gh-ac\")\n",
    "SearchBar.send_keys(\"Photo Frames\")\n",
    "SearchBar.send_keys(Keys.ENTER)\n",
    "\n",
    "frames_desc = driver.find_elements_by_css_selector(\".s-item__title\")\n",
    "frames_prices = driver.find_elements_by_css_selector(\".s-item__price\")\n",
    "\n",
    "ebay_frames = {}\n",
    "\n",
    "for i in range(len(frames_desc)):\n",
    "    ebay_frames[frames_desc[i].text[:20]] = frames_prices[i].text\n",
    "print(ebay_frames)"
   ]
  },
  {
   "cell_type": "markdown",
   "metadata": {},
   "source": [
    "## Bonus: Converting data into a pandas DataFrame"
   ]
  },
  {
   "cell_type": "code",
   "execution_count": 17,
   "metadata": {
    "scrolled": true
   },
   "outputs": [
    {
     "name": "stdout",
     "output_type": "stream",
     "text": [
      "                    item  price\n",
      "0   AmazonBasics 8\" x 10   9.84\n",
      "1   Hap Tim 5x7 Picture   19.99\n",
      "2   Scholartree Wooden P  19.95\n",
      "3   RPJC 5x7 Picture Fra   7.99\n",
      "4   AmazonBasics Photo P   9.99\n",
      "5   Yome 11x14 Black Pic  19.99\n",
      "6                           NaN\n",
      "7   Giftgarden 8x10 Pict  25.49\n",
      "8   SONGMICS Picture Fra  29.99\n",
      "9   Emfogo 4x6 Picture F  13.99\n",
      "10  Americanflat 11x14 B  14.95\n",
      "11  8x10 Black Picture F  30.99\n",
      "12  Love-KANKEI Wood Pic  15.99\n",
      "13  Golden State Art, Go  38.99\n",
      "14  BOICHEN 6 Pack 4x6 P  21.99\n",
      "15  RPJC 5x7 Soild Wood   13.99\n",
      "16  The Display Guys LUX  18.99\n",
      "17  upsimples 5x7 Pictur  33.99\n",
      "18  Scholartree Wooden G  21.95\n",
      "19  Giftgarden Multi Pic  32.99\n",
      "20  Umbra Prisma Picture  10.99\n",
      "21  Collage Picture Fram  24.95\n",
      "22  Americanflat 10-Piec  31.95\n",
      "23  Americanflat 11x14 C  16.95\n",
      "24  MELANNCO Customizabl  19.99\n",
      "25  Homemaxs 12 Pack Pic  35.99\n",
      "26  Giftgarden 5 by 7 In  14.99\n",
      "27  Umbra Luna 9-Opening  37.87\n",
      "28  Gallery Perfect 7 Pi  45.49\n",
      "29  Egofine 8x10 Picture  27.49\n",
      "30  LaVie Home 5x7 Pictu  27.95\n",
      "31  LaVie Home 4x6 Pictu  25.95\n",
      "32  RPJC 4x6 Picture Fra   7.99\n",
      "33  Boichen 5x7 Picture   25.99\n"
     ]
    }
   ],
   "source": [
    "import pandas as pd\n",
    "\n",
    "# Pandas take a special dictionary format to convert a dictionary into a dataframe. {\"column name\" : [\"list of values]}\n",
    "\n",
    "data = pd.DataFrame( {\n",
    "    'item' : list(frames.keys()),\n",
    "    'price' : list(frames.values())\n",
    "})\n",
    "\n",
    "print(data)"
   ]
  }
 ],
 "metadata": {
  "kernelspec": {
   "display_name": "Python 3",
   "language": "python",
   "name": "python3"
  },
  "language_info": {
   "codemirror_mode": {
    "name": "ipython",
    "version": 3
   },
   "file_extension": ".py",
   "mimetype": "text/x-python",
   "name": "python",
   "nbconvert_exporter": "python",
   "pygments_lexer": "ipython3",
   "version": "3.7.4"
  }
 },
 "nbformat": 4,
 "nbformat_minor": 2
}
