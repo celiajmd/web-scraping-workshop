{
 "cells": [
  {
   "cell_type": "markdown",
   "metadata": {},
   "source": [
    "# Selenium Tutorial -- Dev Sharma, Applied Analytics Club"
   ]
  },
  {
   "cell_type": "markdown",
   "metadata": {},
   "source": [
    "Import libraries "
   ]
  },
  {
   "cell_type": "code",
   "execution_count": 1,
   "metadata": {},
   "outputs": [],
   "source": [
    "from selenium import webdriver\n",
    "from selenium.webdriver.support.ui import Select\n",
    "from selenium.webdriver.common.keys import Keys\n",
    "import os"
   ]
  },
  {
   "cell_type": "code",
   "execution_count": 2,
   "metadata": {},
   "outputs": [],
   "source": [
    "# Set Working Directory\n",
    "os.chdir('/Users/devsharma/Dropbox/Education/Data Science/Python Learning')\n",
    "driver = webdriver.Chrome('web_scraping/chromedriver')\n"
   ]
  },
  {
   "cell_type": "markdown",
   "metadata": {},
   "source": [
    "Define the url and use selenium's in-built get function to go to the desired site"
   ]
  },
  {
   "cell_type": "code",
   "execution_count": 5,
   "metadata": {},
   "outputs": [],
   "source": [
    "url = \"http://www.amazon.com\"\n",
    "driver.get(url)"
   ]
  },
  {
   "cell_type": "markdown",
   "metadata": {},
   "source": [
    "### Selecting an option out of a dropdown menu"
   ]
  },
  {
   "cell_type": "code",
   "execution_count": 12,
   "metadata": {
    "scrolled": true
   },
   "outputs": [
    {
     "name": "stdout",
     "output_type": "stream",
     "text": [
      "All Departments\n",
      "Alexa Skills\n",
      "Amazon Devices\n",
      "Amazon Fresh\n",
      "Amazon Warehouse\n",
      "Appliances\n",
      "Apps & Games\n",
      "Arts, Crafts & Sewing\n",
      "Automotive Parts & Accessories\n",
      "Baby\n",
      "Beauty & Personal Care\n",
      "Books\n",
      "CDs & Vinyl\n",
      "Cell Phones & Accessories\n",
      "Clothing, Shoes & Jewelry\n",
      "   Women\n",
      "   Men\n",
      "   Girls\n",
      "   Boys\n",
      "   Baby\n",
      "Collectibles & Fine Art\n",
      "Computers\n",
      "Courses\n",
      "Credit and Payment Cards\n",
      "Digital Music\n",
      "Electronics\n",
      "Garden & Outdoor\n",
      "Gift Cards\n",
      "Grocery & Gourmet Food\n",
      "Handmade\n",
      "Health, Household & Baby Care\n",
      "Home & Business Services\n",
      "Home & Kitchen\n",
      "Industrial & Scientific\n",
      "Just for Prime\n",
      "Kindle Store\n",
      "Luggage & Travel Gear\n",
      "Luxury Beauty\n",
      "Magazine Subscriptions\n",
      "Movies & TV\n",
      "Musical Instruments\n",
      "Office Products\n",
      "Pet Supplies\n",
      "Prime Pantry\n",
      "Prime Video\n",
      "Software\n",
      "Sports & Outdoors\n",
      "Tools & Home Improvement\n",
      "Toys & Games\n",
      "Vehicles\n",
      "Video Games\n"
     ]
    }
   ],
   "source": [
    "options = driver.find_element_by_css_selector('#searchDropdownBox')\n",
    " \n",
    "print(options.text)"
   ]
  },
  {
   "cell_type": "code",
   "execution_count": 19,
   "metadata": {},
   "outputs": [],
   "source": [
    "selection = Select(options)\n",
    "selection.select_by_visible_text('Home & Kitchen')"
   ]
  },
  {
   "cell_type": "markdown",
   "metadata": {},
   "source": [
    "Search for any product type e.g. \"photo frames\""
   ]
  },
  {
   "cell_type": "code",
   "execution_count": 24,
   "metadata": {},
   "outputs": [],
   "source": [
    "SearchBar = driver.find_element_by_css_selector(\"#twotabsearchtextbox\")\n",
    "SearchBar.send_keys(\"Photo Frames\")\n",
    "SearchBar.send_keys(Keys.ENTER)"
   ]
  },
  {
   "cell_type": "markdown",
   "metadata": {},
   "source": [
    "### Selecting multiple elements "
   ]
  },
  {
   "cell_type": "code",
   "execution_count": 92,
   "metadata": {},
   "outputs": [
    {
     "name": "stdout",
     "output_type": "stream",
     "text": [
      "60\n"
     ]
    },
    {
     "data": {
      "text/plain": [
       "'Love-KANKEI Wood Picture Photo Frame for Wall Decor 26×29 inch - with 30 Clips & Ajustable Twines - Collage Artworks Prints Multi Pictures Organizer & Hanging Display Frames Carbonized Black'"
      ]
     },
     "execution_count": 92,
     "metadata": {},
     "output_type": "execute_result"
    }
   ],
   "source": [
    "frames_desc = []\n",
    "frames_desc_temp = driver.find_elements_by_css_selector(\".s-line-clamp-4 .a-text-normal\") # Note the \"s\" in elements denoting multiple elements\n",
    "\n",
    "\n",
    "#Accounrint for duplicates\n",
    "for i in range(len(frames_desc_temp)):\n",
    "    if i % 2 != 0:\n",
    "        frames_desc.append(frames_desc_temp[i])\n",
    "\n",
    "print(len(frames_desc))\n",
    "frames_desc[10].text"
   ]
  },
  {
   "cell_type": "code",
   "execution_count": 62,
   "metadata": {},
   "outputs": [
    {
     "data": {
      "text/plain": [
       "'15'"
      ]
     },
     "execution_count": 62,
     "metadata": {},
     "output_type": "execute_result"
    }
   ],
   "source": [
    "frames_whole_price = driver.find_elements_by_css_selector(\".a-spacing-top-small .a-price:nth-child(1) .a-price-whole\")\n",
    "frames_whole_price[10].text"
   ]
  },
  {
   "cell_type": "code",
   "execution_count": 63,
   "metadata": {
    "scrolled": true
   },
   "outputs": [
    {
     "data": {
      "text/plain": [
       "'99'"
      ]
     },
     "execution_count": 63,
     "metadata": {},
     "output_type": "execute_result"
    }
   ],
   "source": [
    "frames_frac_price = driver.find_elements_by_css_selector(\".a-spacing-top-small .a-price:nth-child(1) .a-price-fraction\")\n",
    "frames_frac_price[10].text\n"
   ]
  },
  {
   "cell_type": "code",
   "execution_count": 64,
   "metadata": {},
   "outputs": [
    {
     "data": {
      "text/plain": [
       "str"
      ]
     },
     "execution_count": 64,
     "metadata": {},
     "output_type": "execute_result"
    }
   ],
   "source": [
    "type(frames_frac_price[10].text) # type of the element is string. we will need to convert this to int to derive the final price"
   ]
  },
  {
   "cell_type": "markdown",
   "metadata": {},
   "source": [
    "#### Summing the whole and fraction prices"
   ]
  },
  {
   "cell_type": "code",
   "execution_count": 65,
   "metadata": {},
   "outputs": [],
   "source": [
    "# Creating the function \n",
    "def price_compiler(whole,frac):\n",
    "    final_price = int(whole) + (int(frac)/100)\n",
    "    return final_price"
   ]
  },
  {
   "cell_type": "code",
   "execution_count": 71,
   "metadata": {
    "scrolled": true
   },
   "outputs": [
    {
     "name": "stdout",
     "output_type": "stream",
     "text": [
      "[19.97, 29.99, 29.99, 29.99, 35.99, 35.04, 44.51, 14.95, 7.99, 16.95, 15.99, 9.99, 12.99, 24.95, 36.97, 34.99, 26.88, 13.99, 36.54, 67.99, 9.99, 31.95, 26.99, 13.99, 27.99, 22.95, 12.99, 28.99, 9.99, 38.99, 19.99, 36.99, 8.99, 29.99, 22.99, 19.99, 36.15, 15.29, 38.99, 16.99, 19.95, 23.97, 21.99, 65.99, 22.05, 31.99, 29.99, 69.99, 28.99, 24.29, 34.99, 19.99, 11.99, 12.95, 14.99, 16.99, 19.95, 24.95, 29.95, 7.99]\n"
     ]
    },
    {
     "data": {
      "text/plain": [
       "60"
      ]
     },
     "execution_count": 71,
     "metadata": {},
     "output_type": "execute_result"
    }
   ],
   "source": [
    "frames_price = []\n",
    "\n",
    "for i in range(len(frames_whole_price)):\n",
    "    full_price = price_compiler( frames_whole_price[i].text , frames_frac_price[i].text )\n",
    "    frames_price.append(full_price)\n",
    "    \n",
    "print(frames_price)"
   ]
  },
  {
   "cell_type": "markdown",
   "metadata": {},
   "source": [
    "### Creating a dictionary for each item"
   ]
  },
  {
   "cell_type": "code",
   "execution_count": 96,
   "metadata": {},
   "outputs": [
    {
     "name": "stdout",
     "output_type": "stream",
     "text": [
      "{'8x10 Picture Frame B': 19.97, 'The Display Guys~ LU': 29.99, 'SONGMICS Picture Fra': 19.99, 'Giftgarden 8x10 Pict': 29.99, 'Umbra Luna 9-Opening': 35.99, 'MCS 8.5x11 Inch Form': 35.04, 'Gallery Perfect 7 Pi': 44.51, 'Americanflat 11x14 B': 14.95, 'RPJC 5x7 Picture Fra': 7.99, 'Americanflat 11x14 C': 16.95, 'Love-KANKEI Wood Pic': 15.99, 'Umbra Prisma Picture': 9.99, 'CECIINION New MDF Wo': 12.99, 'Excello Global Produ': 19.95, 'Adeco [PF0206] Decor': 36.97, 'Homemaxs 12 Pack Pic': 34.99, '3d Picture Frames Tr': 26.88, 'O-KIS Hanging Photo ': 13.99, '5 Pack Acrylic Pictu': 36.54, 'NIX Advance Digital ': 67.99, 'AmazonBasics Photo F': 22.05, 'Americanflat 10-Piec': 31.95, 'Giftgarden 5x7 Inch ': 26.99, 'MCS 3.25x3.25 Inch C': 13.99, 'Amazing Roo 10 PCS 4': 27.99, 'Hand Painted Rustic ': 22.95, 'replicartz Photo Fra': 12.99, 'Boichen 6 Pack 5x7 P': 28.99, 'Philip Whitney Metal': 38.99, 'WOLTU 10 Piece Multi': 19.99, 'upsimples 5x7 Pictur': 36.99, 'Magtech Magnetic Pho': 8.99, 'Green Pollywog Schoo': 22.99, 'Kiera Grace Family C': 19.99, 'MCS 10pc Picture Fra': 36.15, 'Giftgarden 5 by 7 -I': 15.29, 'Golden State Art, Me': 38.99, 'Artsay 4x6 Picture F': 16.99, 'Americanflat 2 Pack ': 12.95, '11x14 Inch Picture F': 23.97, 'Icona Bay 4x6 Pictur': 21.99, 'Gallery Perfect 9 Pi': 65.99, 'PETAFLOP 8x10 Pictur': 31.99, 'INNOCHEER Picture Fr': 29.99, 'Wireless Hidden Spy ': 69.99, 'Craig Frames 1WB3BK ': 24.29, 'Langdons 5x7 Picture': 34.99, 'Photo clips string l': 11.99, 'RPJC 8x10 Picture Fr': 14.99, '5x7 Picture Frames M': 16.99, 'Collage Picture Fram': 24.95, 'Blue Picture Frames ': 29.95, 'RPJC 4x6 inch Pictur': 7.99}\n"
     ]
    }
   ],
   "source": [
    "frames = {}\n",
    "\n",
    "for i in range(len(frames_desc)):\n",
    "    frames[frames_desc[i].text[:20]] = frames_price[i]\n",
    "    \n",
    "print(frames)"
   ]
  },
  {
   "cell_type": "code",
   "execution_count": 72,
   "metadata": {},
   "outputs": [
    {
     "data": {
      "text/plain": [
       "70"
      ]
     },
     "execution_count": 72,
     "metadata": {},
     "output_type": "execute_result"
    }
   ],
   "source": [
    "len(frames_desc)"
   ]
  },
  {
   "cell_type": "markdown",
   "metadata": {},
   "source": [
    "## Challenge: Use Selenium to scrape Ebay.com for a product of your choice "
   ]
  },
  {
   "cell_type": "code",
   "execution_count": null,
   "metadata": {},
   "outputs": [],
   "source": [
    "# Hint: Don't worry about selecting the right product category\n",
    "\n",
    "# Answer\n",
    "#\n",
    "#\n",
    "#\n",
    "#"
   ]
  },
  {
   "cell_type": "code",
   "execution_count": 100,
   "metadata": {
    "scrolled": false
   },
   "outputs": [
    {
     "name": "stdout",
     "output_type": "stream",
     "text": [
      "{'IKEA Picture Frame 1': '$6.88 to $24.88', '11 26pcs Photo Frame': '$18.99 to $40.99', 'Mini Miniature Doll ': '$9.99', 'SPONSORED\\n11 26pcs P': '$18.99', 'SPONSORED\\nFridge Mag': '$17.50', 'Frame Amo 4x6 Black ': '$7.95 to $29.95', '8 PK Refrigerator Ma': '$11.94', 'Picture Photo Certif': '$10.99 to $27.99', 'Photo Frame 6 Pack 8': '$27.98', 'Reclaimed Rustic Bar': '$3.50 to $14.71', 'Freestanding Borderl': '$2.99', 'Fridge Magnetic Pict': '$17.50', 'Clear Photo Frame 4\"': '$8.99', 'Photo Frame Set Of 6': '$27.89', 'SPONSORED\\nPicture Ph': '$10.99', 'SPONSORED\\nFrame Amo ': '$7.95', 'Photo Frame 8x10\" Fo': '$19.99', '100 plastic Photo Bo': '$39.00', '26PCS Photo Frames S': '$40.99', '11X14 Picture Frames': '$9.04', '3 Colors 5\"x7\" Vinta': '$7.99 to $8.29', 'NEW LISTINGPhoto Fra': '$6.50', 'Photo Booth Frame 2x': '$6.99', 'SPONSORED\\n26PCS Phot': '$40.99', 'SPONSORED\\n11 Pcs Pho': '$24.99', 'NEW LISTINGPair of I': '$11.99', '12 pc Magnetic Photo': '$11.24', 'FREE SHIPPING on ANY': '$7.95 to $16.44', 'VonHaus 4x Decorativ': '$9.99', 'Clear Magnetic Pictu': '$17.59', 'NEW LISTINGSILVER PL': '$7.99', 'VonHaus 7x Decorativ': '$19.99', 'White Resin Carved F': '$0.82 to $1.06', '2 Pack of 11x17 Pict': '$21.99', 'Photo Frame Set Form': '$22.99 to $49.99', '2 Colors Photo Frame': '$19.99 to $35.99', 'NEW LISTING5x7 Photo': '$13.95', 'SPONSORED\\n11PCS Phot': '$22.99', 'SPONSORED\\nVonHaus 4x': '$9.99', 'BarnwoodUSA Rustic F': '$14.99 to $72.99', 'Frame Amo 8x10 Black': '$12.95 to $59.95', 'Magnetic DIY Wooden ': '$7.19 to $9.89', 'Set of 6 Black Pictu': '$28.07', 'VonHaus 9x Decorativ': '$29.99', 'Choice of 5x7, 8x10,': '$9.99 to $44.99', '10 Frames Freez A Fr': '$14.95', 'Shiny Silver Metal P': '$6.00 to $149.00', 'IKEA Picture Frame B': '$28.83', 'Acrylic Photo Frame ': '$5.50', 'NEW LISTINGSisters P': '$8.00', 'Rustic Barn Wood Pic': '$19.80', 'New 6 x 8 Inch Retro': '$17.00', 'NEW LISTINGNatalini ': '$15.00', '10 Pack 4 x 6 Black ': '$24.50', 'Magnetic Photo Pocke': '$9.95', 'Polaroid Pink/Orange': '$4.95', '2019 Graduation Phot': '$12.99', 'SPONSORED\\n12 pc Magn': '$11.24', 'SPONSORED\\nChoice of ': '$9.99'}\n"
     ]
    }
   ],
   "source": [
    "url = \"http://www.ebay.com\"\n",
    "driver.get(url)\n",
    "\n",
    "SearchBar = driver.find_element_by_css_selector(\"#gh-ac\")\n",
    "SearchBar.send_keys(\"Photo Frames\")\n",
    "SearchBar.send_keys(Keys.ENTER)\n",
    "\n",
    "frames_desc = driver.find_elements_by_css_selector(\".s-item__title\")\n",
    "frames_prices = driver.find_elements_by_css_selector(\".s-item__price\")\n",
    "\n",
    "ebay_frames = {}\n",
    "\n",
    "for i in range(len(frames_desc)):\n",
    "    ebay_frames[frames_desc[i].text[:20]] = frames_prices[i].text\n",
    "print(ebay_frames)"
   ]
  },
  {
   "cell_type": "markdown",
   "metadata": {},
   "source": [
    "## Bonus: Converting data into a pandas DataFrame"
   ]
  },
  {
   "cell_type": "code",
   "execution_count": 109,
   "metadata": {
    "scrolled": true
   },
   "outputs": [
    {
     "data": {
      "text/html": [
       "<div>\n",
       "<style scoped>\n",
       "    .dataframe tbody tr th:only-of-type {\n",
       "        vertical-align: middle;\n",
       "    }\n",
       "\n",
       "    .dataframe tbody tr th {\n",
       "        vertical-align: top;\n",
       "    }\n",
       "\n",
       "    .dataframe thead th {\n",
       "        text-align: right;\n",
       "    }\n",
       "</style>\n",
       "<table border=\"1\" class=\"dataframe\">\n",
       "  <thead>\n",
       "    <tr style=\"text-align: right;\">\n",
       "      <th></th>\n",
       "      <th>item</th>\n",
       "      <th>price</th>\n",
       "    </tr>\n",
       "  </thead>\n",
       "  <tbody>\n",
       "    <tr>\n",
       "      <th>0</th>\n",
       "      <td>8x10 Picture Frame B</td>\n",
       "      <td>19.97</td>\n",
       "    </tr>\n",
       "    <tr>\n",
       "      <th>1</th>\n",
       "      <td>The Display Guys~ LU</td>\n",
       "      <td>29.99</td>\n",
       "    </tr>\n",
       "    <tr>\n",
       "      <th>2</th>\n",
       "      <td>SONGMICS Picture Fra</td>\n",
       "      <td>19.99</td>\n",
       "    </tr>\n",
       "    <tr>\n",
       "      <th>3</th>\n",
       "      <td>Giftgarden 8x10 Pict</td>\n",
       "      <td>29.99</td>\n",
       "    </tr>\n",
       "    <tr>\n",
       "      <th>4</th>\n",
       "      <td>Umbra Luna 9-Opening</td>\n",
       "      <td>35.99</td>\n",
       "    </tr>\n",
       "    <tr>\n",
       "      <th>5</th>\n",
       "      <td>MCS 8.5x11 Inch Form</td>\n",
       "      <td>35.04</td>\n",
       "    </tr>\n",
       "    <tr>\n",
       "      <th>6</th>\n",
       "      <td>Gallery Perfect 7 Pi</td>\n",
       "      <td>44.51</td>\n",
       "    </tr>\n",
       "    <tr>\n",
       "      <th>7</th>\n",
       "      <td>Americanflat 11x14 B</td>\n",
       "      <td>14.95</td>\n",
       "    </tr>\n",
       "    <tr>\n",
       "      <th>8</th>\n",
       "      <td>RPJC 5x7 Picture Fra</td>\n",
       "      <td>7.99</td>\n",
       "    </tr>\n",
       "    <tr>\n",
       "      <th>9</th>\n",
       "      <td>Americanflat 11x14 C</td>\n",
       "      <td>16.95</td>\n",
       "    </tr>\n",
       "    <tr>\n",
       "      <th>10</th>\n",
       "      <td>Love-KANKEI Wood Pic</td>\n",
       "      <td>15.99</td>\n",
       "    </tr>\n",
       "    <tr>\n",
       "      <th>11</th>\n",
       "      <td>Umbra Prisma Picture</td>\n",
       "      <td>9.99</td>\n",
       "    </tr>\n",
       "    <tr>\n",
       "      <th>12</th>\n",
       "      <td>CECIINION New MDF Wo</td>\n",
       "      <td>12.99</td>\n",
       "    </tr>\n",
       "    <tr>\n",
       "      <th>13</th>\n",
       "      <td>Excello Global Produ</td>\n",
       "      <td>19.95</td>\n",
       "    </tr>\n",
       "    <tr>\n",
       "      <th>14</th>\n",
       "      <td>Adeco [PF0206] Decor</td>\n",
       "      <td>36.97</td>\n",
       "    </tr>\n",
       "    <tr>\n",
       "      <th>15</th>\n",
       "      <td>Homemaxs 12 Pack Pic</td>\n",
       "      <td>34.99</td>\n",
       "    </tr>\n",
       "    <tr>\n",
       "      <th>16</th>\n",
       "      <td>3d Picture Frames Tr</td>\n",
       "      <td>26.88</td>\n",
       "    </tr>\n",
       "    <tr>\n",
       "      <th>17</th>\n",
       "      <td>O-KIS Hanging Photo</td>\n",
       "      <td>13.99</td>\n",
       "    </tr>\n",
       "    <tr>\n",
       "      <th>18</th>\n",
       "      <td>5 Pack Acrylic Pictu</td>\n",
       "      <td>36.54</td>\n",
       "    </tr>\n",
       "    <tr>\n",
       "      <th>19</th>\n",
       "      <td>NIX Advance Digital</td>\n",
       "      <td>67.99</td>\n",
       "    </tr>\n",
       "    <tr>\n",
       "      <th>20</th>\n",
       "      <td>AmazonBasics Photo F</td>\n",
       "      <td>22.05</td>\n",
       "    </tr>\n",
       "    <tr>\n",
       "      <th>21</th>\n",
       "      <td>Americanflat 10-Piec</td>\n",
       "      <td>31.95</td>\n",
       "    </tr>\n",
       "    <tr>\n",
       "      <th>22</th>\n",
       "      <td>Giftgarden 5x7 Inch</td>\n",
       "      <td>26.99</td>\n",
       "    </tr>\n",
       "    <tr>\n",
       "      <th>23</th>\n",
       "      <td>MCS 3.25x3.25 Inch C</td>\n",
       "      <td>13.99</td>\n",
       "    </tr>\n",
       "    <tr>\n",
       "      <th>24</th>\n",
       "      <td>Amazing Roo 10 PCS 4</td>\n",
       "      <td>27.99</td>\n",
       "    </tr>\n",
       "    <tr>\n",
       "      <th>25</th>\n",
       "      <td>Hand Painted Rustic</td>\n",
       "      <td>22.95</td>\n",
       "    </tr>\n",
       "    <tr>\n",
       "      <th>26</th>\n",
       "      <td>replicartz Photo Fra</td>\n",
       "      <td>12.99</td>\n",
       "    </tr>\n",
       "    <tr>\n",
       "      <th>27</th>\n",
       "      <td>Boichen 6 Pack 5x7 P</td>\n",
       "      <td>28.99</td>\n",
       "    </tr>\n",
       "    <tr>\n",
       "      <th>28</th>\n",
       "      <td>Philip Whitney Metal</td>\n",
       "      <td>38.99</td>\n",
       "    </tr>\n",
       "    <tr>\n",
       "      <th>29</th>\n",
       "      <td>WOLTU 10 Piece Multi</td>\n",
       "      <td>19.99</td>\n",
       "    </tr>\n",
       "    <tr>\n",
       "      <th>30</th>\n",
       "      <td>upsimples 5x7 Pictur</td>\n",
       "      <td>36.99</td>\n",
       "    </tr>\n",
       "    <tr>\n",
       "      <th>31</th>\n",
       "      <td>Magtech Magnetic Pho</td>\n",
       "      <td>8.99</td>\n",
       "    </tr>\n",
       "    <tr>\n",
       "      <th>32</th>\n",
       "      <td>Green Pollywog Schoo</td>\n",
       "      <td>22.99</td>\n",
       "    </tr>\n",
       "    <tr>\n",
       "      <th>33</th>\n",
       "      <td>Kiera Grace Family C</td>\n",
       "      <td>19.99</td>\n",
       "    </tr>\n",
       "    <tr>\n",
       "      <th>34</th>\n",
       "      <td>MCS 10pc Picture Fra</td>\n",
       "      <td>36.15</td>\n",
       "    </tr>\n",
       "    <tr>\n",
       "      <th>35</th>\n",
       "      <td>Giftgarden 5 by 7 -I</td>\n",
       "      <td>15.29</td>\n",
       "    </tr>\n",
       "    <tr>\n",
       "      <th>36</th>\n",
       "      <td>Golden State Art, Me</td>\n",
       "      <td>38.99</td>\n",
       "    </tr>\n",
       "    <tr>\n",
       "      <th>37</th>\n",
       "      <td>Artsay 4x6 Picture F</td>\n",
       "      <td>16.99</td>\n",
       "    </tr>\n",
       "    <tr>\n",
       "      <th>38</th>\n",
       "      <td>Americanflat 2 Pack</td>\n",
       "      <td>12.95</td>\n",
       "    </tr>\n",
       "    <tr>\n",
       "      <th>39</th>\n",
       "      <td>11x14 Inch Picture F</td>\n",
       "      <td>23.97</td>\n",
       "    </tr>\n",
       "    <tr>\n",
       "      <th>40</th>\n",
       "      <td>Icona Bay 4x6 Pictur</td>\n",
       "      <td>21.99</td>\n",
       "    </tr>\n",
       "    <tr>\n",
       "      <th>41</th>\n",
       "      <td>Gallery Perfect 9 Pi</td>\n",
       "      <td>65.99</td>\n",
       "    </tr>\n",
       "    <tr>\n",
       "      <th>42</th>\n",
       "      <td>PETAFLOP 8x10 Pictur</td>\n",
       "      <td>31.99</td>\n",
       "    </tr>\n",
       "    <tr>\n",
       "      <th>43</th>\n",
       "      <td>INNOCHEER Picture Fr</td>\n",
       "      <td>29.99</td>\n",
       "    </tr>\n",
       "    <tr>\n",
       "      <th>44</th>\n",
       "      <td>Wireless Hidden Spy</td>\n",
       "      <td>69.99</td>\n",
       "    </tr>\n",
       "    <tr>\n",
       "      <th>45</th>\n",
       "      <td>Craig Frames 1WB3BK</td>\n",
       "      <td>24.29</td>\n",
       "    </tr>\n",
       "    <tr>\n",
       "      <th>46</th>\n",
       "      <td>Langdons 5x7 Picture</td>\n",
       "      <td>34.99</td>\n",
       "    </tr>\n",
       "    <tr>\n",
       "      <th>47</th>\n",
       "      <td>Photo clips string l</td>\n",
       "      <td>11.99</td>\n",
       "    </tr>\n",
       "    <tr>\n",
       "      <th>48</th>\n",
       "      <td>RPJC 8x10 Picture Fr</td>\n",
       "      <td>14.99</td>\n",
       "    </tr>\n",
       "    <tr>\n",
       "      <th>49</th>\n",
       "      <td>5x7 Picture Frames M</td>\n",
       "      <td>16.99</td>\n",
       "    </tr>\n",
       "    <tr>\n",
       "      <th>50</th>\n",
       "      <td>Collage Picture Fram</td>\n",
       "      <td>24.95</td>\n",
       "    </tr>\n",
       "    <tr>\n",
       "      <th>51</th>\n",
       "      <td>Blue Picture Frames</td>\n",
       "      <td>29.95</td>\n",
       "    </tr>\n",
       "    <tr>\n",
       "      <th>52</th>\n",
       "      <td>RPJC 4x6 inch Pictur</td>\n",
       "      <td>7.99</td>\n",
       "    </tr>\n",
       "  </tbody>\n",
       "</table>\n",
       "</div>"
      ],
      "text/plain": [
       "                    item  price\n",
       "0   8x10 Picture Frame B  19.97\n",
       "1   The Display Guys~ LU  29.99\n",
       "2   SONGMICS Picture Fra  19.99\n",
       "3   Giftgarden 8x10 Pict  29.99\n",
       "4   Umbra Luna 9-Opening  35.99\n",
       "5   MCS 8.5x11 Inch Form  35.04\n",
       "6   Gallery Perfect 7 Pi  44.51\n",
       "7   Americanflat 11x14 B  14.95\n",
       "8   RPJC 5x7 Picture Fra   7.99\n",
       "9   Americanflat 11x14 C  16.95\n",
       "10  Love-KANKEI Wood Pic  15.99\n",
       "11  Umbra Prisma Picture   9.99\n",
       "12  CECIINION New MDF Wo  12.99\n",
       "13  Excello Global Produ  19.95\n",
       "14  Adeco [PF0206] Decor  36.97\n",
       "15  Homemaxs 12 Pack Pic  34.99\n",
       "16  3d Picture Frames Tr  26.88\n",
       "17  O-KIS Hanging Photo   13.99\n",
       "18  5 Pack Acrylic Pictu  36.54\n",
       "19  NIX Advance Digital   67.99\n",
       "20  AmazonBasics Photo F  22.05\n",
       "21  Americanflat 10-Piec  31.95\n",
       "22  Giftgarden 5x7 Inch   26.99\n",
       "23  MCS 3.25x3.25 Inch C  13.99\n",
       "24  Amazing Roo 10 PCS 4  27.99\n",
       "25  Hand Painted Rustic   22.95\n",
       "26  replicartz Photo Fra  12.99\n",
       "27  Boichen 6 Pack 5x7 P  28.99\n",
       "28  Philip Whitney Metal  38.99\n",
       "29  WOLTU 10 Piece Multi  19.99\n",
       "30  upsimples 5x7 Pictur  36.99\n",
       "31  Magtech Magnetic Pho   8.99\n",
       "32  Green Pollywog Schoo  22.99\n",
       "33  Kiera Grace Family C  19.99\n",
       "34  MCS 10pc Picture Fra  36.15\n",
       "35  Giftgarden 5 by 7 -I  15.29\n",
       "36  Golden State Art, Me  38.99\n",
       "37  Artsay 4x6 Picture F  16.99\n",
       "38  Americanflat 2 Pack   12.95\n",
       "39  11x14 Inch Picture F  23.97\n",
       "40  Icona Bay 4x6 Pictur  21.99\n",
       "41  Gallery Perfect 9 Pi  65.99\n",
       "42  PETAFLOP 8x10 Pictur  31.99\n",
       "43  INNOCHEER Picture Fr  29.99\n",
       "44  Wireless Hidden Spy   69.99\n",
       "45  Craig Frames 1WB3BK   24.29\n",
       "46  Langdons 5x7 Picture  34.99\n",
       "47  Photo clips string l  11.99\n",
       "48  RPJC 8x10 Picture Fr  14.99\n",
       "49  5x7 Picture Frames M  16.99\n",
       "50  Collage Picture Fram  24.95\n",
       "51  Blue Picture Frames   29.95\n",
       "52  RPJC 4x6 inch Pictur   7.99"
      ]
     },
     "execution_count": 109,
     "metadata": {},
     "output_type": "execute_result"
    }
   ],
   "source": [
    "import pandas as pd\n",
    "\n",
    "# Pandas take a special dictionary format to convert a dictionary into a dataframe. {\"column name\" : [\"list of values]}\n",
    "\n",
    "data = pd.DataFrame( {\n",
    "    'item' : list(frames.keys()),\n",
    "    'price' : list(frames.values())\n",
    "})\n",
    "\n",
    "print(data)"
   ]
  }
 ],
 "metadata": {
  "kernelspec": {
   "display_name": "Python 3",
   "language": "python",
   "name": "python3"
  },
  "language_info": {
   "codemirror_mode": {
    "name": "ipython",
    "version": 3
   },
   "file_extension": ".py",
   "mimetype": "text/x-python",
   "name": "python",
   "nbconvert_exporter": "python",
   "pygments_lexer": "ipython3",
   "version": "3.6.4"
  }
 },
 "nbformat": 4,
 "nbformat_minor": 2
}
